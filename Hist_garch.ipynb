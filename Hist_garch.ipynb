{
 "cells": [
  {
   "cell_type": "code",
   "execution_count": null,
   "metadata": {},
   "outputs": [],
   "source": [
    "import pandas as pd\n",
    "import statistics\n",
    "from scipy import stats\n",
    "import numpy as np\n",
    "import matplotlib.pyplot as plt\n",
    "indices = pd.read_csv(\"./data/indices.csv\",index_col='Dates')\n",
    "#indices = indices['NiKKEI']"
   ]
  },
  {
   "cell_type": "code",
   "execution_count": null,
   "metadata": {},
   "outputs": [],
   "source": [
    "log_returns = np.log(indices.pct_change() + 1)"
   ]
  },
  {
   "cell_type": "code",
   "execution_count": null,
   "metadata": {},
   "outputs": [],
   "source": [
    "#log_returns=log_returns.to_frame()\n",
    "log_returns=log_returns.dropna()\n",
    "#log_returns=log_returns.loc[(log_returns!=0).any(axis=1)]\n",
    "log_returns"
   ]
  },
  {
   "cell_type": "code",
   "execution_count": null,
   "metadata": {},
   "outputs": [],
   "source": [
    "def residual_term_quantile(window, q=0.05):\n",
    " return(window).quantile(q)"
   ]
  },
  {
   "cell_type": "code",
   "execution_count": null,
   "metadata": {},
   "outputs": [],
   "source": [
    "historic_var05_7090 = log_returns.rolling(7090).apply(residual_term_quantile, args=(0.05, )).shift(1).dropna()\n",
    "historic_var01_7090 = log_returns.rolling(7090).apply(residual_term_quantile, args=(0.01, )).shift(1).dropna()"
   ]
  },
  {
   "cell_type": "code",
   "execution_count": null,
   "metadata": {},
   "outputs": [],
   "source": [
    "\n",
    "historic_var01_7090"
   ]
  },
  {
   "cell_type": "code",
   "execution_count": null,
   "metadata": {},
   "outputs": [],
   "source": [
    "historic_var05_7090"
   ]
  },
  {
   "cell_type": "code",
   "execution_count": null,
   "metadata": {},
   "outputs": [],
   "source": [
    "his_sim=historic_var01_7090.mean()\n",
    "his_sim"
   ]
  },
  {
   "cell_type": "code",
   "execution_count": null,
   "metadata": {},
   "outputs": [],
   "source": [
    "successes = (log_returns[7090:] < historic_var05_7090).sum()\n",
    "n = len(log_returns[7090:])\n",
    "print(successes / n)\n",
    "print('=======')\n",
    "print('pvalues:')\n",
    "print(stats.binom_test(successes.iloc[0], n=n, p=0.01))\n",
    "print(stats.binom_test(successes.iloc[1], n=n, p=0.01))\n",
    "print(stats.binom_test(successes.iloc[2], n=n, p=0.01))"
   ]
  },
  {
   "cell_type": "code",
   "execution_count": null,
   "metadata": {},
   "outputs": [],
   "source": [
    "successes"
   ]
  },
  {
   "cell_type": "code",
   "execution_count": null,
   "metadata": {},
   "outputs": [],
   "source": [
    "plt.figure(figsize=(20,6))\n",
    "plt.plot(log_returns['NiKKEI'][7090:].values, label='NIKKEI 225 Daily returns')\n",
    "plt.plot(historic_var01_7090['NiKKEI'].values, label='99% VaR')\n",
    "plt.plot(historic_var05_7090['NiKKEI'].values, label='95% VaR')\n",
    "#plt.title('95% VaR vs 99% VaR')\n",
    "plt.ylabel('')\n",
    "plt.xlabel('')\n",
    "plt.legend(loc='lower left')\n",
    "plt.show()"
   ]
  },
  {
   "cell_type": "code",
   "execution_count": null,
   "metadata": {},
   "outputs": [],
   "source": [
    "plt.figure(figsize=(20,6))\n",
    "plt.plot(log_returns['FTSE100'][7090:].values, label='FTSE Daily returns')\n",
    "plt.plot(historic_var01_7090['FTSE100'].values, label='99% VaR')\n",
    "plt.plot(historic_var05_7090['FTSE100'].values, label='95% VaR')\n",
    "#plt.title('95% VaR vs 99% VaR')\n",
    "plt.ylabel('')\n",
    "plt.xlabel('')\n",
    "plt.legend(loc='lower left')\n",
    "plt.show()"
   ]
  },
  {
   "cell_type": "code",
   "execution_count": null,
   "metadata": {},
   "outputs": [],
   "source": [
    "plt.figure(figsize=(20,6))\n",
    "plt.plot(log_returns['S&P500'][7090:].values, label='S&P 500 Daily returns')\n",
    "plt.plot(historic_var01_7090['S&P500'].values, label='99% VaR')\n",
    "plt.plot(historic_var05_7090['S&P500'].values, label='95% VaR')\n",
    "#plt.title('95% VaR vs 99% VaR')\n",
    "plt.ylabel('')\n",
    "plt.xlabel('')\n",
    "plt.legend(loc='lower left')\n",
    "plt.show()"
   ]
  },
  {
   "cell_type": "code",
   "execution_count": null,
   "metadata": {},
   "outputs": [],
   "source": [
    "from arch import arch_model"
   ]
  },
  {
   "cell_type": "code",
   "execution_count": null,
   "metadata": {},
   "outputs": [],
   "source": [
    "from arch.univariate import ZeroMean, ConstantMean, ARX, GARCH, StudentsT, HARX, SkewStudent\n",
    "from arch.__future__ import reindexing"
   ]
  },
  {
   "cell_type": "code",
   "execution_count": null,
   "metadata": {},
   "outputs": [],
   "source": [
    "from sklearn.metrics import mean_squared_error"
   ]
  },
  {
   "cell_type": "code",
   "execution_count": null,
   "metadata": {},
   "outputs": [],
   "source": [
    "def rolling_gjrgarch(window, quantile=0.01):\n",
    "    scale = 100\n",
    "    model = arch_model(scale * window, vol='GARCH', p=1, q=1, dist='t') # o=1 leads to GRJGARCH model\n",
    "    #model = ARX(scale * window, lags=1)\n",
    "    #model = HARX(scale * window, lags=1)\n",
    "    #model = ZeroMean(scale * window)\n",
    "    #model.volatility = GARCH(1,1)\n",
    "    # model.distribution = StudentsT()\n",
    "    #model.distribution = SkewStudent()\n",
    "    res = model.fit()\n",
    "    #print(res.summary())\n",
    "    forecasts = res.forecast(horizon=1)\n",
    "    cond_mean = forecasts.mean.iloc[-1]\n",
    "    print('cond_mean', cond_mean)\n",
    "    cond_var = forecasts.variance.iloc[-1]\n",
    "    print('cond_var', cond_var)\n",
    "    q = model.distribution.ppf(quantile, parameters=res.params[-1:])\n",
    "    value_at_risk = - cond_mean.values - np.sqrt(cond_var) * q\n",
    "    return - value_at_risk / scale"
   ]
  },
  {
   "cell_type": "code",
   "execution_count": null,
   "metadata": {},
   "outputs": [],
   "source": [
    "gjrgarch_i_01 = pd.DataFrame({\n",
    "    k: log_returns[k].rolling(7090).apply(rolling_gjrgarch, args=(0.01,)).shift(1)\n",
    "    for k in log_returns.columns\n",
    "})"
   ]
  },
  {
   "cell_type": "code",
   "execution_count": null,
   "metadata": {},
   "outputs": [],
   "source": [
    "gjrgarch_i_05 = pd.DataFrame({\n",
    "    k: log_returns[k].rolling(7090).apply(rolling_gjrgarch, args=(0.05,)).shift(1)\n",
    "    for k in log_returns.columns\n",
    "})"
   ]
  },
  {
   "cell_type": "code",
   "execution_count": null,
   "metadata": {},
   "outputs": [],
   "source": [
    "gjrgarch_i_01[7090:]"
   ]
  },
  {
   "cell_type": "code",
   "execution_count": null,
   "metadata": {},
   "outputs": [],
   "source": [
    "successes = (log_returns[7090:] < gjrgarch_i_05[7090:]).sum()\n",
    "n = len(log_returns[7090:])\n",
    "print(successes / n)\n",
    "print('=======')\n",
    "print('pvalues:')\n",
    "print(stats.binom_test(successes.iloc[0], n=n, p=0.01))\n",
    "print(stats.binom_test(successes.iloc[1], n=n, p=0.01))\n",
    "print(stats.binom_test(successes.iloc[2], n=n, p=0.01))"
   ]
  },
  {
   "cell_type": "code",
   "execution_count": null,
   "metadata": {},
   "outputs": [],
   "source": [
    "successes"
   ]
  },
  {
   "cell_type": "code",
   "execution_count": null,
   "metadata": {},
   "outputs": [],
   "source": [
    "plt.figure(figsize=(20,6))\n",
    "plt.plot(log_returns['NiKKEI'][7090:].values, label='NIKKEI 225 Daily returns')\n",
    "plt.plot(gjrgarch_i_01[7090:]['NiKKEI'].values, label='99% VaR')\n",
    "plt.plot(gjrgarch_i_05[7090:]['NiKKEI'].values, label='95% VaR')\n",
    "#plt.title('95% VaR vs 99% VaR')\n",
    "plt.ylabel('')\n",
    "plt.xlabel('')\n",
    "plt.legend(loc='upper center')\n",
    "plt.show()"
   ]
  },
  {
   "cell_type": "code",
   "execution_count": null,
   "metadata": {},
   "outputs": [],
   "source": [
    "plt.figure(figsize=(20,6))\n",
    "plt.plot(log_returns['FTSE100'][7090:].values, label='FTSE Daily returns')\n",
    "plt.plot(gjrgarch_i_01[7090:]['FTSE100'].values, label='99% VaR')\n",
    "plt.plot(gjrgarch_i_05[7090:]['FTSE100'].values, label='95% VaR')\n",
    "#plt.title('95% VaR vs 99% VaR')\n",
    "plt.ylabel('')\n",
    "plt.xlabel('')\n",
    "plt.legend(loc='upper left')\n",
    "plt.show()"
   ]
  },
  {
   "cell_type": "code",
   "execution_count": null,
   "metadata": {},
   "outputs": [],
   "source": [
    "plt.figure(figsize=(20,6))\n",
    "plt.plot(log_returns['S&P500'][7090:].values, label='S&P 500 Daily returns')\n",
    "plt.plot(gjrgarch_i_01[7090:]['S&P500'].values, label='99% VaR')\n",
    "plt.plot(gjrgarch_i_05[7090:]['S&P500'].values, label='95% VaR')\n",
    "#plt.title('95% VaR vs 99% VaR')\n",
    "plt.ylabel('')\n",
    "plt.xlabel('')\n",
    "plt.legend(loc='upper left')\n",
    "plt.show()"
   ]
  },
  {
   "cell_type": "code",
   "execution_count": null,
   "metadata": {},
   "outputs": [],
   "source": []
  },
  {
   "cell_type": "code",
   "execution_count": null,
   "metadata": {},
   "outputs": [],
   "source": []
  },
  {
   "cell_type": "code",
   "execution_count": null,
   "metadata": {},
   "outputs": [],
   "source": [
    "KK=(0.99**1363)*(0.01**23)\n",
    "KK"
   ]
  },
  {
   "cell_type": "code",
   "execution_count": null,
   "metadata": {},
   "outputs": [],
   "source": [
    "JJ= ((1-(23/1386))**1363)*((23/1386)**23)\n",
    "JJ"
   ]
  },
  {
   "cell_type": "code",
   "execution_count": null,
   "metadata": {},
   "outputs": [],
   "source": [
    "KK/JJ"
   ]
  },
  {
   "cell_type": "code",
   "execution_count": null,
   "metadata": {},
   "outputs": [],
   "source": [
    "-8.755764454947405*-2"
   ]
  },
  {
   "cell_type": "code",
   "execution_count": null,
   "metadata": {},
   "outputs": [],
   "source": []
  },
  {
   "cell_type": "code",
   "execution_count": null,
   "metadata": {},
   "outputs": [],
   "source": []
  }
 ],
 "metadata": {
  "kernelspec": {
   "display_name": "Python 3",
   "language": "python",
   "name": "python3"
  },
  "language_info": {
   "codemirror_mode": {
    "name": "ipython",
    "version": 3
   },
   "file_extension": ".py",
   "mimetype": "text/x-python",
   "name": "python",
   "nbconvert_exporter": "python",
   "pygments_lexer": "ipython3",
   "version": "3.7.6"
  }
 },
 "nbformat": 4,
 "nbformat_minor": 4
}
